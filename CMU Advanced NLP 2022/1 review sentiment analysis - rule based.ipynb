{
 "cells": [
  {
   "cell_type": "code",
   "execution_count": 31,
   "metadata": {},
   "outputs": [],
   "source": [
    "train_file_path = 'data/sst-sentiment-text-threeclass/train.txt'\n",
    "test_file_path = 'data/sst-sentiment-text-threeclass/test.txt'\n",
    "dev_file_path = 'data/sst-sentiment-text-threeclass/dev.txt'"
   ]
  },
  {
   "cell_type": "code",
   "execution_count": 32,
   "metadata": {},
   "outputs": [],
   "source": [
    "import numpy as np\n",
    "import pandas as pd"
   ]
  },
  {
   "attachments": {},
   "cell_type": "markdown",
   "metadata": {},
   "source": [
    "# LOAD DATA"
   ]
  },
  {
   "cell_type": "code",
   "execution_count": 33,
   "metadata": {},
   "outputs": [],
   "source": [
    "def process_text_file(file_path):\n",
    "    with open(file_path, 'r') as f:\n",
    "        lines = f.readlines()\n",
    "    lines = [line.strip() for line in lines]\n",
    "    lines = [line.split('|||') for line in lines]\n",
    "    lines = [[int(line[0]), line[1].strip().lower()] for line in lines]\n",
    "\n",
    "    sentiments = [line[0] for line in lines]\n",
    "    reviews = [line[1] for line in lines]\n",
    "    sentiments, reviews = np.array(sentiments), np.array(reviews)\n",
    "    return sentiments, reviews"
   ]
  },
  {
   "cell_type": "code",
   "execution_count": 34,
   "metadata": {},
   "outputs": [],
   "source": [
    "train_sentiments, train_reviews = process_text_file(train_file_path)\n",
    "test_sentiments, test_reviews = process_text_file(test_file_path)\n",
    "dev_sentiments, dev_reviews = process_text_file(dev_file_path)"
   ]
  },
  {
   "attachments": {},
   "cell_type": "markdown",
   "metadata": {},
   "source": [
    "# FEATURE EXTRACTION"
   ]
  },
  {
   "cell_type": "code",
   "execution_count": 35,
   "metadata": {},
   "outputs": [],
   "source": [
    "# write very basic rule based feature extractor\n",
    "\n",
    "good_words = ['love', 'good', 'like']\n",
    "bad_words = ['hate', 'bad', 'dislike']\n",
    "\n",
    "def rule_based_feature_extractor(review):\n",
    "    tokens = review.split(' ')\n",
    "    good_word_count, bad_word_count = 0, 0\n",
    "    for token in tokens:\n",
    "        if token in good_words:\n",
    "            good_word_count += 1\n",
    "        elif token in bad_words:\n",
    "            bad_word_count += 1\n",
    "    return [good_word_count, bad_word_count, 1] # 1 is for bias\n",
    "\n",
    "# write a function to extract features for all reviews\n",
    "\n",
    "def extract_features(reviews, feature_weights=[1, -1, 0.5]):\n",
    "    features = []\n",
    "    for review in reviews:\n",
    "        features.append(rule_based_feature_extractor(review))\n",
    "    features = np.array(features)\n",
    "    return np.dot(features, feature_weights)"
   ]
  },
  {
   "cell_type": "code",
   "execution_count": 36,
   "metadata": {},
   "outputs": [],
   "source": [
    "Xtrain, Ytrain = extract_features(train_reviews), train_sentiments\n",
    "Xtest, Ytest = extract_features(test_reviews), test_sentiments\n",
    "Xdev, Ydev = extract_features(dev_reviews), dev_sentiments"
   ]
  },
  {
   "attachments": {},
   "cell_type": "markdown",
   "metadata": {},
   "source": [
    "# RULE BASED DECISSION RULER"
   ]
  },
  {
   "cell_type": "code",
   "execution_count": 37,
   "metadata": {},
   "outputs": [],
   "source": [
    "def rule_based_classifier(x):\n",
    "    if x > 0:\n",
    "        return 1\n",
    "    elif x < 0:\n",
    "        return -1\n",
    "    else:\n",
    "        return 0"
   ]
  },
  {
   "attachments": {},
   "cell_type": "markdown",
   "metadata": {},
   "source": [
    "# EVALUATION"
   ]
  },
  {
   "cell_type": "code",
   "execution_count": 38,
   "metadata": {},
   "outputs": [],
   "source": [
    "def accuracy(Y, X):\n",
    "    Yhat = np.array([rule_based_classifier(x) for x in X])\n",
    "    return np.mean(Y == Yhat)"
   ]
  },
  {
   "cell_type": "code",
   "execution_count": 39,
   "metadata": {},
   "outputs": [
    {
     "data": {
      "text/plain": [
       "(0.4324672284644195, 0.4244343891402715, 0.41689373297002724)"
      ]
     },
     "execution_count": 39,
     "metadata": {},
     "output_type": "execute_result"
    }
   ],
   "source": [
    "accuracy(Ytrain, Xtrain), accuracy(Ytest, Xtest), accuracy(Ydev, Xdev)"
   ]
  }
 ],
 "metadata": {
  "kernelspec": {
   "display_name": "torch111",
   "language": "python",
   "name": "python3"
  },
  "language_info": {
   "codemirror_mode": {
    "name": "ipython",
    "version": 3
   },
   "file_extension": ".py",
   "mimetype": "text/x-python",
   "name": "python",
   "nbconvert_exporter": "python",
   "pygments_lexer": "ipython3",
   "version": "3.8.13"
  },
  "orig_nbformat": 4,
  "vscode": {
   "interpreter": {
    "hash": "38d61779fb8a2d479ca2bc1a752fe475f56efe678dc670cf5ac86029018bbcc6"
   }
  }
 },
 "nbformat": 4,
 "nbformat_minor": 2
}
